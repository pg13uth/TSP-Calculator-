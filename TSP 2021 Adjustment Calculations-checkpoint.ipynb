{
 "cells": [
  {
   "cell_type": "code",
   "execution_count": 4,
   "metadata": {},
   "outputs": [],
   "source": [
    "import numpy as np"
   ]
  },
  {
   "cell_type": "code",
   "execution_count": 4,
   "metadata": {},
   "outputs": [
    {
     "name": "stdout",
     "output_type": "stream",
     "text": [
      "TSP total through June 2021:  10269.25\n",
      "If Pierce contributes  0.17  (1306.31) ,  and  0.04  (307.37)   per month from July-December his TSP total for 2021 will be 19951.34\n",
      "If Pierce contributes  0.16  (1229.47) ,  and  0.05  (384.21)   per month from July-December his TSP total for 2021 will be 19951.34\n",
      "If Pierce contributes  0.15  (1152.63) ,  and  0.06  (461.05)   per month from July-December his TSP total for 2021 will be 19951.34\n",
      "If Pierce contributes  0.14  (1075.79) ,  and  0.07  (537.89)   per month from July-December his TSP total for 2021 will be 19951.34\n"
     ]
    }
   ],
   "source": [
    "pBasePay = 7684.20\n",
    "pCurrentTradBal2021 = 5908.10\n",
    "pCurrentRothBal2021 = 2593.78\n",
    "pCurrentTSPBal2021 = pCurrentTradBal2021 + pCurrentRothBal2021\n",
    "pJune2021 = (pBasePay*.07) + (pBasePay*.16)\n",
    "pProjectedAfterJune2021 = pCurrentTSPBal2021 + pJune2021 \n",
    "pRounded = round(pProjectedAfterJune2021, 2)\n",
    "print (\"TSP total through June 2021: \", pRounded)\n",
    "#pFeb2020 = (pBasePay*.08) + (pBasePay *.18)\n",
    "pMonRothExpRate = [.1, .09, .08, .07, .06, .05, .04]\n",
    "#pMonthlyTradRate = .19\n",
    "pMonTradExpRate = [.2, .19, .18, .17, .16, .15, .14]\n",
    "for i in pMonTradExpRate:\n",
    "    for j in pMonRothExpRate: \n",
    "        expTradPerMonth = pBasePay * i\n",
    "        expRothPerMonth = pBasePay * j\n",
    "        tsp2021 = pProjectedAfterJune2021 + 6*((expTradPerMonth) + (expRothPerMonth))\n",
    "        #print (\"Monthly Traditional Contribution at \" , i, \" is %.2f \" % expTradPerMonth)\n",
    "        #print (\"Monthly Roth Contribution at \" , j, \" is %.2f \" % expRothPerMonth)\n",
    "        if tsp2021 < 19500 or tsp2021 > 20000:\n",
    "            continue\n",
    "        elif tsp2021 > 19500 and tsp2021 < 20000: \n",
    "            print (\"If Pierce contributes \" , i, \" (%.2f) ,\" % expTradPerMonth, \" and \" ,j, \" (%.2f) \" % expRothPerMonth, \" per month from July-December his TSP total for 2021 will be %.2f\"  % tsp2021)\n",
    "        "
   ]
  },
  {
   "cell_type": "code",
   "execution_count": null,
   "metadata": {},
   "outputs": [],
   "source": []
  }
 ],
 "metadata": {
  "kernelspec": {
   "display_name": "Python 3",
   "language": "python",
   "name": "python3"
  },
  "language_info": {
   "codemirror_mode": {
    "name": "ipython",
    "version": 3
   },
   "file_extension": ".py",
   "mimetype": "text/x-python",
   "name": "python",
   "nbconvert_exporter": "python",
   "pygments_lexer": "ipython3",
   "version": "3.7.0"
  }
 },
 "nbformat": 4,
 "nbformat_minor": 1
}
